{
 "cells": [
  {
   "cell_type": "code",
   "execution_count": 10,
   "metadata": {},
   "outputs": [],
   "source": [
    "import csv\n",
    "import pandas as pd"
   ]
  },
  {
   "cell_type": "code",
   "execution_count": 11,
   "metadata": {},
   "outputs": [],
   "source": [
    "sub_files = [\n",
    "    '../data/pub_868.csv',\n",
    "    '../data/pub_867.csv',\n",
    "    '../data/pub_864.csv',\n",
    "    '../data/pub_855.csv',\n",
    "    '../data/pub_760.csv',\n",
    "    '../submissions/sim_pub_389.csv',\n",
    "    '../submissions/cls_pub_483.csv'\n",
    "]\n",
    "\n",
    "sub_weight = [\n",
    "    0.868**2,\n",
    "    0.867**2,\n",
    "    0.864**2,\n",
    "    0.855**2,\n",
    "    0.76**2,\n",
    "    0.389**2,\n",
    "    0.483**2\n",
    "]"
   ]
  },
  {
   "cell_type": "code",
   "execution_count": 12,
   "metadata": {},
   "outputs": [
    {
     "name": "stdout",
     "output_type": "stream",
     "text": [
      "{0: 1.0, 1: 0.5, 2: 0.3333333333333333, 3: 0.25, 4: 0.2, 5: 0.16666666666666666}\n",
      "Reading 0: w=0.753424 - ../data/pub_868.csv\n",
      "Reading 1: w=0.7516889999999999 - ../data/pub_867.csv\n",
      "Reading 2: w=0.7464959999999999 - ../data/pub_864.csv\n",
      "Reading 3: w=0.7310249999999999 - ../data/pub_855.csv\n",
      "Reading 4: w=0.5776 - ../data/pub_760.csv\n",
      "Reading 5: w=0.151321 - ../submissions/sim_pub_389.csv\n",
      "Reading 6: w=0.233289 - ../submissions/cls_pub_483.csv\n"
     ]
    }
   ],
   "source": [
    "Hlabel = 'Image' \n",
    "Htarget = 'Id'\n",
    "npt = 6\n",
    "place_weights = {}\n",
    "for i in range(npt):\n",
    "    place_weights[i] = ( 1 / (i + 1) )\n",
    "    \n",
    "print(place_weights)\n",
    "\n",
    "lg = len(sub_files)\n",
    "sub = [None]*lg\n",
    "for i, file in enumerate( sub_files ):\n",
    "    print(\"Reading {}: w={} - {}\". format(i, sub_weight[i], file))\n",
    "    reader = csv.DictReader(open(file,\"r\"))\n",
    "    sub[i] = sorted(reader, key=lambda d: str(d[Hlabel]))\n",
    "\n",
    "out = open(\"../submissions/sub_ens.csv\", \"w\", newline='')\n",
    "writer = csv.writer(out)\n",
    "writer.writerow([Hlabel,Htarget])\n",
    "\n",
    "for p, row in enumerate(sub[0]):\n",
    "    target_weight = {}\n",
    "    for s in range(lg):\n",
    "        row1 = sub[s][p]\n",
    "        for ind, trgt in enumerate(row1[Htarget].split(' ')):\n",
    "            target_weight[trgt] = target_weight.get(trgt,0) + (place_weights[ind]*sub_weight[s])\n",
    "    tops_trgt = sorted(target_weight, key=target_weight.get, reverse=True)[:npt]\n",
    "    writer.writerow([row1[Hlabel], \" \".join(tops_trgt)])\n",
    "out.close()"
   ]
  }
 ],
 "metadata": {
  "kernelspec": {
   "display_name": "Python 3",
   "language": "python",
   "name": "python3"
  },
  "language_info": {
   "codemirror_mode": {
    "name": "ipython",
    "version": 3
   },
   "file_extension": ".py",
   "mimetype": "text/x-python",
   "name": "python",
   "nbconvert_exporter": "python",
   "pygments_lexer": "ipython3",
   "version": "3.5.2"
  }
 },
 "nbformat": 4,
 "nbformat_minor": 2
}
