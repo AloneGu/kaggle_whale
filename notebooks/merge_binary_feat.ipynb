{
 "cells": [
  {
   "cell_type": "code",
   "execution_count": 148,
   "metadata": {},
   "outputs": [
    {
     "data": {
      "text/html": [
       "<div>\n",
       "<style scoped>\n",
       "    .dataframe tbody tr th:only-of-type {\n",
       "        vertical-align: middle;\n",
       "    }\n",
       "\n",
       "    .dataframe tbody tr th {\n",
       "        vertical-align: top;\n",
       "    }\n",
       "\n",
       "    .dataframe thead th {\n",
       "        text-align: right;\n",
       "    }\n",
       "</style>\n",
       "<table border=\"1\" class=\"dataframe\">\n",
       "  <thead>\n",
       "    <tr style=\"text-align: right;\">\n",
       "      <th></th>\n",
       "      <th>Image</th>\n",
       "      <th>Id</th>\n",
       "    </tr>\n",
       "  </thead>\n",
       "  <tbody>\n",
       "    <tr>\n",
       "      <th>0</th>\n",
       "      <td>00028a005.jpg</td>\n",
       "      <td>w_dec7ffd new_whale w_ab44ae4 w_f009245 w_2a0e...</td>\n",
       "    </tr>\n",
       "    <tr>\n",
       "      <th>1</th>\n",
       "      <td>000dcf7d8.jpg</td>\n",
       "      <td>w_4132bb8 new_whale w_3de579a w_9d29561 w_9119...</td>\n",
       "    </tr>\n",
       "    <tr>\n",
       "      <th>2</th>\n",
       "      <td>000e7c7df.jpg</td>\n",
       "      <td>w_94c3bf0 new_whale w_3de579a w_fc6dd24 w_d7ae...</td>\n",
       "    </tr>\n",
       "    <tr>\n",
       "      <th>3</th>\n",
       "      <td>0019c34f4.jpg</td>\n",
       "      <td>w_a335fc2 w_c99807e new_whale w_59052ad w_0135...</td>\n",
       "    </tr>\n",
       "    <tr>\n",
       "      <th>4</th>\n",
       "      <td>001a4d292.jpg</td>\n",
       "      <td>new_whale w_20eeb29 w_5b40032 w_ce66f9a w_82e7...</td>\n",
       "    </tr>\n",
       "  </tbody>\n",
       "</table>\n",
       "</div>"
      ],
      "text/plain": [
       "           Image                                                 Id\n",
       "0  00028a005.jpg  w_dec7ffd new_whale w_ab44ae4 w_f009245 w_2a0e...\n",
       "1  000dcf7d8.jpg  w_4132bb8 new_whale w_3de579a w_9d29561 w_9119...\n",
       "2  000e7c7df.jpg  w_94c3bf0 new_whale w_3de579a w_fc6dd24 w_d7ae...\n",
       "3  0019c34f4.jpg  w_a335fc2 w_c99807e new_whale w_59052ad w_0135...\n",
       "4  001a4d292.jpg  new_whale w_20eeb29 w_5b40032 w_ce66f9a w_82e7..."
      ]
     },
     "execution_count": 148,
     "metadata": {},
     "output_type": "execute_result"
    }
   ],
   "source": [
    "import pandas as pd\n",
    "import pickle\n",
    "\n",
    "base_csv = '../data/pub_868.csv'\n",
    "binary_feat = '../data/save_feats/detect_if_new_whale_bbox_xception_299_feat.pkl'\n",
    "HIGH_THRES = 0.93\n",
    "LOW_THRES = 0.07\n",
    "\n",
    "\n",
    "df = pd.read_csv(base_csv)\n",
    "df.head()"
   ]
  },
  {
   "cell_type": "code",
   "execution_count": 149,
   "metadata": {},
   "outputs": [
    {
     "name": "stdout",
     "output_type": "stream",
     "text": [
      "['00028a005.jpg'\n",
      " 'w_dec7ffd new_whale w_ab44ae4 w_f009245 w_2a0e817 w_700ebb4']\n"
     ]
    }
   ],
   "source": [
    "print(df.values[0])"
   ]
  },
  {
   "cell_type": "code",
   "execution_count": 150,
   "metadata": {},
   "outputs": [
    {
     "name": "stdout",
     "output_type": "stream",
     "text": [
      "['00028a005.jpg' 'w_dec7ffd new_whale w_ab44ae4 w_f009245 w_2a0e817']\n"
     ]
    }
   ],
   "source": [
    "def keep5(s):\n",
    "    return ' '.join(s.split(' ')[:5])\n",
    "\n",
    "df.Id = df.Id.apply(keep5)\n",
    "print(df.values[0])"
   ]
  },
  {
   "cell_type": "code",
   "execution_count": 151,
   "metadata": {},
   "outputs": [
    {
     "name": "stdout",
     "output_type": "stream",
     "text": [
      "dict_keys(['pred', 'label_list'])\n",
      "[0.20772535 0.7922747 ]\n"
     ]
    }
   ],
   "source": [
    "with open(binary_feat,'rb') as fin:\n",
    "    binary_f = pickle.load(fin)\n",
    "print(binary_f.keys())\n",
    "print(binary_f['pred']['00028a005.jpg'])"
   ]
  },
  {
   "cell_type": "code",
   "execution_count": 152,
   "metadata": {},
   "outputs": [
    {
     "name": "stdout",
     "output_type": "stream",
     "text": [
      "1850cbe9f.jpg [0.06571262 0.9342874 ]\n",
      "367b03954.jpg [0.06901273 0.93098724]\n",
      "c881bb62d.jpg [0.06816036 0.9318396 ]\n",
      "ba250a21e.jpg [0.06597461 0.9340254 ]\n",
      "704a4bf34.jpg [0.06544501 0.93455493]\n",
      "01d9c00d4.jpg [0.0499453  0.95005465]\n",
      "f7663e305.jpg [0.06517369 0.93482625]\n",
      "0cbfdf671.jpg [0.06868038 0.93131965]\n",
      "195f7ca52.jpg [0.05358236 0.9464177 ]\n",
      "e99148635.jpg [0.06514563 0.9348544 ]\n",
      "106d84e98.jpg [0.06006038 0.9399396 ]\n",
      "3180e1cd5.jpg [0.0537825 0.9462174]\n"
     ]
    }
   ],
   "source": [
    "for k in binary_f['pred']:\n",
    "    if binary_f['pred'][k][0]<0.07:\n",
    "        print(k, binary_f['pred'][k])"
   ]
  },
  {
   "cell_type": "code",
   "execution_count": 153,
   "metadata": {},
   "outputs": [
    {
     "name": "stdout",
     "output_type": "stream",
     "text": [
      "w_6cda039 new_whale w_2b4b82e w_bd26110 w_ae32f8b\n",
      "w_6cda039 w_2b4b82e new_whale w_bd26110 w_ae32f8b\n",
      "[0.0499453  0.95005465]\n",
      "------\n",
      "w_fec331a new_whale w_3879fa0 w_2f1488c w_17b0d3a\n",
      "w_fec331a w_3879fa0 new_whale w_2f1488c w_17b0d3a\n",
      "[0.06868038 0.93131965]\n",
      "------\n",
      "new_whale w_4b5ade3 w_733f661 w_a94396f w_17b0d3a\n",
      "w_4b5ade3 new_whale w_733f661 w_a94396f w_17b0d3a\n",
      "[0.06006038 0.9399396 ]\n",
      "------\n",
      "w_3bfa4f8 new_whale w_3879fa0 w_f8bb266 w_d7aef56\n",
      "new_whale w_3bfa4f8 w_3879fa0 w_f8bb266 w_d7aef56\n",
      "[0.96110094 0.03889912]\n",
      "------\n",
      "new_whale w_2284d86 w_6b1d160 w_f13f7b3 w_d7998d1\n",
      "w_2284d86 new_whale w_6b1d160 w_f13f7b3 w_d7998d1\n",
      "[0.06571262 0.9342874 ]\n",
      "------\n",
      "w_263fcb0 w_28c1ced new_whale w_2284d86 w_a88f2c1\n",
      "w_263fcb0 w_28c1ced w_2284d86 new_whale w_a88f2c1\n",
      "[0.05358236 0.9464177 ]\n",
      "------\n",
      "w_e0f635c w_4df0da7 new_whale w_cf9055c w_281a8cd\n",
      "w_e0f635c new_whale w_4df0da7 w_cf9055c w_281a8cd\n",
      "[0.9530889  0.04691115]\n",
      "------\n",
      "w_c815410 new_whale w_60cf87c w_4b5ade3 w_7c9f76d\n",
      "w_c815410 w_60cf87c new_whale w_4b5ade3 w_7c9f76d\n",
      "[0.0537825 0.9462174]\n",
      "------\n",
      "w_ec4299b new_whale w_9119b08 w_4d7df64 w_a113b33\n",
      "new_whale w_ec4299b w_9119b08 w_4d7df64 w_a113b33\n",
      "[0.99036336 0.00963662]\n",
      "------\n",
      "w_e27bbf6 new_whale w_2284d86 w_4ab3420 w_d7aef56\n",
      "w_e27bbf6 w_2284d86 new_whale w_4ab3420 w_d7aef56\n",
      "[0.06901273 0.93098724]\n",
      "------\n",
      "w_43614bc w_298f605 new_whale w_17b0d3a w_8d09425\n",
      "w_43614bc new_whale w_298f605 w_17b0d3a w_8d09425\n",
      "[0.9969894  0.00301062]\n",
      "------\n",
      "w_64404ac new_whale w_d7aef56 w_59f2171 w_17b0d3a\n",
      "w_64404ac w_d7aef56 new_whale w_59f2171 w_17b0d3a\n",
      "[0.06544501 0.93455493]\n",
      "------\n",
      "w_be5ee58 new_whale w_ab41d9b w_a10e633 w_75cebcf\n",
      "new_whale w_be5ee58 w_ab41d9b w_a10e633 w_75cebcf\n",
      "[0.9346031 0.0653969]\n",
      "------\n",
      "w_a3e2d0f new_whale w_7cb0e92 w_50707c4 w_9119b08\n",
      "new_whale w_a3e2d0f w_7cb0e92 w_50707c4 w_9119b08\n",
      "[0.9644356 0.0355645]\n",
      "------\n",
      "w_2362d7f new_whale w_5f0fcab w_b91bcd4 w_3879fa0\n",
      "new_whale w_2362d7f w_5f0fcab w_b91bcd4 w_3879fa0\n",
      "[9.9981302e-01 1.8700222e-04]\n",
      "------\n",
      "w_b23555d new_whale w_9a77724 w_17b0d3a w_1ea5d96\n",
      "new_whale w_b23555d w_9a77724 w_17b0d3a w_1ea5d96\n",
      "[0.9534409  0.04655911]\n",
      "------\n",
      "w_b919aad new_whale w_17b0d3a w_7f4e31e w_d7aef56\n",
      "new_whale w_b919aad w_17b0d3a w_7f4e31e w_d7aef56\n",
      "[0.9405254 0.0594746]\n",
      "------\n",
      "w_09c59c2 new_whale w_2284d86 w_f6bae1a w_7e56d66\n",
      "w_09c59c2 w_2284d86 new_whale w_f6bae1a w_7e56d66\n",
      "[0.06597461 0.9340254 ]\n",
      "------\n",
      "w_cd1905a new_whale w_ec16cc4 w_6c3ec2d w_d7aef56\n",
      "new_whale w_cd1905a w_ec16cc4 w_6c3ec2d w_d7aef56\n",
      "[0.9383514  0.06164858]\n",
      "------\n",
      "w_68ed1f9 new_whale w_2284d86 w_953b7b2 w_d7aef56\n",
      "w_68ed1f9 w_2284d86 new_whale w_953b7b2 w_d7aef56\n",
      "[0.06816036 0.9318396 ]\n",
      "------\n",
      "w_088cda7 new_whale w_5a7e338 w_39b9efe w_3879fa0\n",
      "new_whale w_088cda7 w_5a7e338 w_39b9efe w_3879fa0\n",
      "[0.9562849  0.04371511]\n",
      "------\n",
      "new_whale w_2f1488c w_bfcad53 w_ad3a043 w_9119b08\n",
      "w_2f1488c new_whale w_bfcad53 w_ad3a043 w_9119b08\n",
      "[0.06514563 0.9348544 ]\n",
      "------\n",
      "w_a88f2c1 new_whale w_26db444 w_cac17d9 w_2284d86\n",
      "w_a88f2c1 w_26db444 new_whale w_cac17d9 w_2284d86\n",
      "[0.06517369 0.93482625]\n",
      "------\n"
     ]
    }
   ],
   "source": [
    "NW = 'new_whale'\n",
    "\n",
    "def update_label_str(label_str,p):\n",
    "    tmp_list = label_str.split(' ')\n",
    "    if p >= HIGH_THRES:\n",
    "        if NW in label_str:\n",
    "            idx = tmp_list.index(NW)\n",
    "            if idx != 0:\n",
    "                tmp_list[idx],tmp_list[idx-1] = tmp_list[idx-1],tmp_list[idx]\n",
    "                return ' '.join(tmp_list)\n",
    "        else:\n",
    "            tmp_list = [NW] + tmp_list\n",
    "            return ' '.join(tmp_list[:5])\n",
    "        \n",
    "    if p <= LOW_THRES:\n",
    "        if NW in label_str:\n",
    "            idx = tmp_list.index(NW)\n",
    "            if idx != 4:\n",
    "                tmp_list[idx],tmp_list[idx+1] = tmp_list[idx+1],tmp_list[idx]\n",
    "                return ' '.join(tmp_list)\n",
    "        else:\n",
    "            pass\n",
    "    \n",
    "    return label_str\n",
    "\n",
    "h_cnt = 0\n",
    "l_cnt = 0\n",
    "new_Id = []\n",
    "for img_k, old_label in df.values:\n",
    "    tmp_prob = binary_f['pred'][img_k]\n",
    "    new_label_s = update_label_str(old_label,tmp_prob[0])\n",
    "    new_Id.append(new_label_s)\n",
    "    if new_label_s != old_label:\n",
    "        print(old_label)\n",
    "        print(new_label_s)\n",
    "        print(tmp_prob)\n",
    "        print('------')\n",
    "        if new_label_s.startswith(NW):\n",
    "            h_cnt += 1\n",
    "        else:\n",
    "            l_cnt += 1"
   ]
  },
  {
   "cell_type": "code",
   "execution_count": 154,
   "metadata": {},
   "outputs": [
    {
     "name": "stdout",
     "output_type": "stream",
     "text": [
      "9 14\n"
     ]
    },
    {
     "data": {
      "text/html": [
       "<div>\n",
       "<style scoped>\n",
       "    .dataframe tbody tr th:only-of-type {\n",
       "        vertical-align: middle;\n",
       "    }\n",
       "\n",
       "    .dataframe tbody tr th {\n",
       "        vertical-align: top;\n",
       "    }\n",
       "\n",
       "    .dataframe thead th {\n",
       "        text-align: right;\n",
       "    }\n",
       "</style>\n",
       "<table border=\"1\" class=\"dataframe\">\n",
       "  <thead>\n",
       "    <tr style=\"text-align: right;\">\n",
       "      <th></th>\n",
       "      <th>Image</th>\n",
       "      <th>Id</th>\n",
       "    </tr>\n",
       "  </thead>\n",
       "  <tbody>\n",
       "    <tr>\n",
       "      <th>0</th>\n",
       "      <td>00028a005.jpg</td>\n",
       "      <td>w_dec7ffd new_whale w_ab44ae4 w_f009245 w_2a0e817</td>\n",
       "    </tr>\n",
       "    <tr>\n",
       "      <th>1</th>\n",
       "      <td>000dcf7d8.jpg</td>\n",
       "      <td>w_4132bb8 new_whale w_3de579a w_9d29561 w_9119b08</td>\n",
       "    </tr>\n",
       "    <tr>\n",
       "      <th>2</th>\n",
       "      <td>000e7c7df.jpg</td>\n",
       "      <td>w_94c3bf0 new_whale w_3de579a w_fc6dd24 w_d7aef56</td>\n",
       "    </tr>\n",
       "    <tr>\n",
       "      <th>3</th>\n",
       "      <td>0019c34f4.jpg</td>\n",
       "      <td>w_a335fc2 w_c99807e new_whale w_59052ad w_0135f5f</td>\n",
       "    </tr>\n",
       "    <tr>\n",
       "      <th>4</th>\n",
       "      <td>001a4d292.jpg</td>\n",
       "      <td>new_whale w_20eeb29 w_5b40032 w_ce66f9a w_82e7319</td>\n",
       "    </tr>\n",
       "  </tbody>\n",
       "</table>\n",
       "</div>"
      ],
      "text/plain": [
       "           Image                                                 Id\n",
       "0  00028a005.jpg  w_dec7ffd new_whale w_ab44ae4 w_f009245 w_2a0e817\n",
       "1  000dcf7d8.jpg  w_4132bb8 new_whale w_3de579a w_9d29561 w_9119b08\n",
       "2  000e7c7df.jpg  w_94c3bf0 new_whale w_3de579a w_fc6dd24 w_d7aef56\n",
       "3  0019c34f4.jpg  w_a335fc2 w_c99807e new_whale w_59052ad w_0135f5f\n",
       "4  001a4d292.jpg  new_whale w_20eeb29 w_5b40032 w_ce66f9a w_82e7319"
      ]
     },
     "execution_count": 154,
     "metadata": {},
     "output_type": "execute_result"
    }
   ],
   "source": [
    "print(h_cnt,l_cnt)\n",
    "df.Id = new_Id\n",
    "df.to_csv('../submissions/binary_up.csv',index=False)\n",
    "df.head()"
   ]
  }
 ],
 "metadata": {
  "kernelspec": {
   "display_name": "Python 3",
   "language": "python",
   "name": "python3"
  },
  "language_info": {
   "codemirror_mode": {
    "name": "ipython",
    "version": 3
   },
   "file_extension": ".py",
   "mimetype": "text/x-python",
   "name": "python",
   "nbconvert_exporter": "python",
   "pygments_lexer": "ipython3",
   "version": "3.5.2"
  }
 },
 "nbformat": 4,
 "nbformat_minor": 2
}
