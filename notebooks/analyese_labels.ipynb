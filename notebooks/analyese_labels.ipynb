{
 "cells": [
  {
   "cell_type": "code",
   "execution_count": 24,
   "metadata": {},
   "outputs": [
    {
     "name": "stdout",
     "output_type": "stream",
     "text": [
      "[['w_6cb1882', 2], ['w_cbdae16', 2], ['w_dcc14b3', 2], ['w_185044d', 2], ['w_5ccee38', 1]]\n"
     ]
    }
   ],
   "source": [
    "# analyse label cnt\n",
    "import json\n",
    "import pandas as pd\n",
    "\n",
    "d = json.loads(open('../data/train_data.json').read())\n",
    "df_data = []\n",
    "for k in d:\n",
    "    df_data.append([k, len(d[k])])\n",
    "print(df_data[:5])"
   ]
  },
  {
   "cell_type": "code",
   "execution_count": 25,
   "metadata": {},
   "outputs": [
    {
     "data": {
      "text/html": [
       "<div>\n",
       "<style scoped>\n",
       "    .dataframe tbody tr th:only-of-type {\n",
       "        vertical-align: middle;\n",
       "    }\n",
       "\n",
       "    .dataframe tbody tr th {\n",
       "        vertical-align: top;\n",
       "    }\n",
       "\n",
       "    .dataframe thead th {\n",
       "        text-align: right;\n",
       "    }\n",
       "</style>\n",
       "<table border=\"1\" class=\"dataframe\">\n",
       "  <thead>\n",
       "    <tr style=\"text-align: right;\">\n",
       "      <th></th>\n",
       "      <th>l</th>\n",
       "      <th>cnt</th>\n",
       "    </tr>\n",
       "  </thead>\n",
       "  <tbody>\n",
       "    <tr>\n",
       "      <th>0</th>\n",
       "      <td>w_6cb1882</td>\n",
       "      <td>2</td>\n",
       "    </tr>\n",
       "    <tr>\n",
       "      <th>1</th>\n",
       "      <td>w_cbdae16</td>\n",
       "      <td>2</td>\n",
       "    </tr>\n",
       "    <tr>\n",
       "      <th>2</th>\n",
       "      <td>w_dcc14b3</td>\n",
       "      <td>2</td>\n",
       "    </tr>\n",
       "    <tr>\n",
       "      <th>3</th>\n",
       "      <td>w_185044d</td>\n",
       "      <td>2</td>\n",
       "    </tr>\n",
       "    <tr>\n",
       "      <th>4</th>\n",
       "      <td>w_5ccee38</td>\n",
       "      <td>1</td>\n",
       "    </tr>\n",
       "  </tbody>\n",
       "</table>\n",
       "</div>"
      ],
      "text/plain": [
       "           l  cnt\n",
       "0  w_6cb1882    2\n",
       "1  w_cbdae16    2\n",
       "2  w_dcc14b3    2\n",
       "3  w_185044d    2\n",
       "4  w_5ccee38    1"
      ]
     },
     "execution_count": 25,
     "metadata": {},
     "output_type": "execute_result"
    }
   ],
   "source": [
    "df = pd.DataFrame(df_data, columns=['l', 'cnt'])\n",
    "df.head()"
   ]
  },
  {
   "cell_type": "code",
   "execution_count": 26,
   "metadata": {},
   "outputs": [
    {
     "name": "stdout",
     "output_type": "stream",
     "text": [
      "['w_0369a5c' 'w_9c506f6' 'w_9b5109b' 'w_23a388d' 'new_whale']\n"
     ]
    }
   ],
   "source": [
    "top5_labels = df.sort_values('cnt').l.values[-5:]\n",
    "print(top5_labels)"
   ]
  },
  {
   "cell_type": "code",
   "execution_count": 27,
   "metadata": {},
   "outputs": [
    {
     "data": {
      "text/html": [
       "<div>\n",
       "<style scoped>\n",
       "    .dataframe tbody tr th:only-of-type {\n",
       "        vertical-align: middle;\n",
       "    }\n",
       "\n",
       "    .dataframe tbody tr th {\n",
       "        vertical-align: top;\n",
       "    }\n",
       "\n",
       "    .dataframe thead th {\n",
       "        text-align: right;\n",
       "    }\n",
       "</style>\n",
       "<table border=\"1\" class=\"dataframe\">\n",
       "  <thead>\n",
       "    <tr style=\"text-align: right;\">\n",
       "      <th></th>\n",
       "      <th>cnt</th>\n",
       "    </tr>\n",
       "  </thead>\n",
       "  <tbody>\n",
       "    <tr>\n",
       "      <th>count</th>\n",
       "      <td>5005.000000</td>\n",
       "    </tr>\n",
       "    <tr>\n",
       "      <th>mean</th>\n",
       "      <td>5.067133</td>\n",
       "    </tr>\n",
       "    <tr>\n",
       "      <th>std</th>\n",
       "      <td>136.634756</td>\n",
       "    </tr>\n",
       "    <tr>\n",
       "      <th>min</th>\n",
       "      <td>1.000000</td>\n",
       "    </tr>\n",
       "    <tr>\n",
       "      <th>25%</th>\n",
       "      <td>1.000000</td>\n",
       "    </tr>\n",
       "    <tr>\n",
       "      <th>50%</th>\n",
       "      <td>2.000000</td>\n",
       "    </tr>\n",
       "    <tr>\n",
       "      <th>75%</th>\n",
       "      <td>3.000000</td>\n",
       "    </tr>\n",
       "    <tr>\n",
       "      <th>max</th>\n",
       "      <td>9664.000000</td>\n",
       "    </tr>\n",
       "  </tbody>\n",
       "</table>\n",
       "</div>"
      ],
      "text/plain": [
       "               cnt\n",
       "count  5005.000000\n",
       "mean      5.067133\n",
       "std     136.634756\n",
       "min       1.000000\n",
       "25%       1.000000\n",
       "50%       2.000000\n",
       "75%       3.000000\n",
       "max    9664.000000"
      ]
     },
     "execution_count": 27,
     "metadata": {},
     "output_type": "execute_result"
    }
   ],
   "source": [
    "df.describe()"
   ]
  },
  {
   "cell_type": "code",
   "execution_count": 28,
   "metadata": {},
   "outputs": [
    {
     "name": "stdout",
     "output_type": "stream",
     "text": [
      "2 2073\n",
      "3 3358\n",
      "4 3926\n"
     ]
    }
   ],
   "source": [
    "for i in [2, 3, 4]:\n",
    "    print(i, len(df[df.cnt < i]))"
   ]
  },
  {
   "cell_type": "code",
   "execution_count": 29,
   "metadata": {},
   "outputs": [
    {
     "data": {
      "text/html": [
       "<div>\n",
       "<style scoped>\n",
       "    .dataframe tbody tr th:only-of-type {\n",
       "        vertical-align: middle;\n",
       "    }\n",
       "\n",
       "    .dataframe tbody tr th {\n",
       "        vertical-align: top;\n",
       "    }\n",
       "\n",
       "    .dataframe thead th {\n",
       "        text-align: right;\n",
       "    }\n",
       "</style>\n",
       "<table border=\"1\" class=\"dataframe\">\n",
       "  <thead>\n",
       "    <tr style=\"text-align: right;\">\n",
       "      <th></th>\n",
       "      <th>Image</th>\n",
       "      <th>Id</th>\n",
       "    </tr>\n",
       "  </thead>\n",
       "  <tbody>\n",
       "    <tr>\n",
       "      <th>0</th>\n",
       "      <td>00028a005.jpg</td>\n",
       "      <td>w_dec7ffd new_whale w_ab44ae4 w_2a0e817 w_9119b08</td>\n",
       "    </tr>\n",
       "    <tr>\n",
       "      <th>1</th>\n",
       "      <td>000dcf7d8.jpg</td>\n",
       "      <td>w_4132bb8 new_whale w_3de579a w_9119b08 w_d7aef56</td>\n",
       "    </tr>\n",
       "    <tr>\n",
       "      <th>2</th>\n",
       "      <td>000e7c7df.jpg</td>\n",
       "      <td>w_94c3bf0 new_whale w_3de579a w_d7aef56 w_17b0d3a</td>\n",
       "    </tr>\n",
       "    <tr>\n",
       "      <th>3</th>\n",
       "      <td>0019c34f4.jpg</td>\n",
       "      <td>w_a335fc2 w_c99807e new_whale w_59052ad w_9119b08</td>\n",
       "    </tr>\n",
       "    <tr>\n",
       "      <th>4</th>\n",
       "      <td>001a4d292.jpg</td>\n",
       "      <td>new_whale w_5b40032 w_82e7319 w_20eeb29 w_ce66f9a</td>\n",
       "    </tr>\n",
       "    <tr>\n",
       "      <th>5</th>\n",
       "      <td>00247bc36.jpg</td>\n",
       "      <td>new_whale w_d7aef56 w_2284d86 w_17b0d3a w_9119b08</td>\n",
       "    </tr>\n",
       "    <tr>\n",
       "      <th>6</th>\n",
       "      <td>0027089a4.jpg</td>\n",
       "      <td>w_7e2eb3d w_2284d86 new_whale w_a9304b9 w_3de579a</td>\n",
       "    </tr>\n",
       "    <tr>\n",
       "      <th>7</th>\n",
       "      <td>002de4d94.jpg</td>\n",
       "      <td>new_whale w_9119b08 w_a9304b9 w_3879fa0 w_17b0d3a</td>\n",
       "    </tr>\n",
       "    <tr>\n",
       "      <th>8</th>\n",
       "      <td>002f52f0c.jpg</td>\n",
       "      <td>new_whale w_53feb91 w_3879fa0 w_d7aef56 w_17b0d3a</td>\n",
       "    </tr>\n",
       "    <tr>\n",
       "      <th>9</th>\n",
       "      <td>002fd89d4.jpg</td>\n",
       "      <td>new_whale w_261878d w_d6907f5 w_e8b5980 w_d0e6e7d</td>\n",
       "    </tr>\n",
       "  </tbody>\n",
       "</table>\n",
       "</div>"
      ],
      "text/plain": [
       "           Image                                                 Id\n",
       "0  00028a005.jpg  w_dec7ffd new_whale w_ab44ae4 w_2a0e817 w_9119b08\n",
       "1  000dcf7d8.jpg  w_4132bb8 new_whale w_3de579a w_9119b08 w_d7aef56\n",
       "2  000e7c7df.jpg  w_94c3bf0 new_whale w_3de579a w_d7aef56 w_17b0d3a\n",
       "3  0019c34f4.jpg  w_a335fc2 w_c99807e new_whale w_59052ad w_9119b08\n",
       "4  001a4d292.jpg  new_whale w_5b40032 w_82e7319 w_20eeb29 w_ce66f9a\n",
       "5  00247bc36.jpg  new_whale w_d7aef56 w_2284d86 w_17b0d3a w_9119b08\n",
       "6  0027089a4.jpg  w_7e2eb3d w_2284d86 new_whale w_a9304b9 w_3de579a\n",
       "7  002de4d94.jpg  new_whale w_9119b08 w_a9304b9 w_3879fa0 w_17b0d3a\n",
       "8  002f52f0c.jpg  new_whale w_53feb91 w_3879fa0 w_d7aef56 w_17b0d3a\n",
       "9  002fd89d4.jpg  new_whale w_261878d w_d6907f5 w_e8b5980 w_d0e6e7d"
      ]
     },
     "execution_count": 29,
     "metadata": {},
     "output_type": "execute_result"
    }
   ],
   "source": [
    "# analyse public sub\n",
    "pub_df = pd.read_csv('../data/pub_855.csv')\n",
    "pub_df.head(10)"
   ]
  },
  {
   "cell_type": "code",
   "execution_count": 30,
   "metadata": {},
   "outputs": [
    {
     "name": "stdout",
     "output_type": "stream",
     "text": [
      "['w_dec7ffd', 'new_whale', 'w_ab44ae4', 'w_2a0e817', 'w_9119b08']\n",
      "top 0\n",
      "3305\n",
      "----------\n",
      "top 1\n",
      "3975\n",
      "----------\n",
      "top 2\n",
      "4305\n",
      "----------\n",
      "top 3\n",
      "4448\n",
      "----------\n",
      "top 4\n",
      "4552\n",
      "----------\n"
     ]
    }
   ],
   "source": [
    "preds = pub_df.Id.values\n",
    "preds = [p.split(' ') for p in preds]\n",
    "print(preds[0])\n",
    "\n",
    "for i in range(5):\n",
    "    print('top', i)\n",
    "    tmp_set = set()\n",
    "    for p in preds:\n",
    "        for element in p[:i+1]:\n",
    "            tmp_set.add(element)\n",
    "    print(len(tmp_set))\n",
    "    print('----------')"
   ]
  },
  {
   "cell_type": "code",
   "execution_count": 31,
   "metadata": {},
   "outputs": [
    {
     "name": "stdout",
     "output_type": "stream",
     "text": [
      "['w_dec7ffd', 'new_whale', 'w_ab44ae4', 'w_9b5109b', 'w_23a388d']\n",
      "           Image                                                 Id\n",
      "0  00028a005.jpg  w_dec7ffd new_whale w_ab44ae4 w_9b5109b w_23a388d\n",
      "1  000dcf7d8.jpg  w_4132bb8 new_whale w_3de579a w_9b5109b w_23a388d\n",
      "2  000e7c7df.jpg  w_94c3bf0 new_whale w_3de579a w_9b5109b w_23a388d\n",
      "3  0019c34f4.jpg  w_a335fc2 w_c99807e new_whale w_9b5109b w_23a388d\n",
      "4  001a4d292.jpg  new_whale w_5b40032 w_82e7319 w_9b5109b w_23a388d\n",
      "5  00247bc36.jpg  new_whale w_d7aef56 w_2284d86 w_9b5109b w_23a388d\n",
      "6  0027089a4.jpg  w_7e2eb3d w_2284d86 new_whale w_9b5109b w_23a388d\n",
      "7  002de4d94.jpg  new_whale w_9119b08 w_a9304b9 w_9b5109b w_23a388d\n",
      "8  002f52f0c.jpg  new_whale w_53feb91 w_3879fa0 w_9b5109b w_23a388d\n",
      "9  002fd89d4.jpg  new_whale w_261878d w_d6907f5 w_9b5109b w_23a388d\n"
     ]
    }
   ],
   "source": [
    "# simple test, replace last 2 with top res in top5\n",
    "def update_p(p_list, top5):\n",
    "    tmp_p = p_list[:3]\n",
    "    tmp_filter_top = [l for l in top5 if l not in tmp_p]\n",
    "    tmp_p = tmp_p + tmp_filter_top[-2:]\n",
    "    return tmp_p\n",
    "\n",
    "\n",
    "# test\n",
    "print(update_p(preds[0], top5_labels))\n",
    "\n",
    "test_new_pred = [' '.join(update_p(p, top5_labels)) for p in preds]\n",
    "new_df = pub_df.copy()\n",
    "new_df.Id = test_new_pred\n",
    "print(new_df.head(10))\n",
    "new_df.to_csv('../submissions/replace_2.csv',index=False)"
   ]
  }
 ],
 "metadata": {
  "kernelspec": {
   "display_name": "Python 3",
   "language": "python",
   "name": "python3"
  },
  "language_info": {
   "codemirror_mode": {
    "name": "ipython",
    "version": 3
   },
   "file_extension": ".py",
   "mimetype": "text/x-python",
   "name": "python",
   "nbconvert_exporter": "python",
   "pygments_lexer": "ipython3",
   "version": "3.5.2"
  }
 },
 "nbformat": 4,
 "nbformat_minor": 2
}
