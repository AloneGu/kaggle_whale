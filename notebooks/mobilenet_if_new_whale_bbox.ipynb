{
 "cells": [
  {
   "cell_type": "code",
   "execution_count": 1,
   "metadata": {},
   "outputs": [],
   "source": [
    "import sys\n",
    "sys.path.append('../py_scripts')"
   ]
  },
  {
   "cell_type": "code",
   "execution_count": null,
   "metadata": {},
   "outputs": [
    {
     "name": "stdout",
     "output_type": "stream",
     "text": [
      "compile done\n"
     ]
    }
   ],
   "source": [
    "import keras\n",
    "import os\n",
    "from model_utils import get_mobilenet_model, get_callbacks, get_xception_model\n",
    "from utils import get_train_test_data_dict, DictImageDataGenerator, preprocess_func\n",
    "from utils import get_if_new_whale_dict, split_train_test_dict\n",
    "\n",
    "# define train params\n",
    "IMG_SIZE = 299\n",
    "LABEL_CNT = 2\n",
    "ALL_DATA_JSON = '../data/train_data.json'\n",
    "BATCH_SIZE = 4\n",
    "ALL_DATA_DICT = json.loads(open(ALL_DATA_JSON).read())\n",
    "print('load done')\n",
    "\n",
    "if_whale_d = get_if_new_whale_dict(ALL_DATA_DICT)\n",
    "train_d, val_d = split_train_test_dict(if_whale_d, test_rate=0.075)\n",
    "# add val_d to train_d\n",
    "train_d = if_whale_d\n",
    "print(len(train_d['new_whale']),len(train_d['not_new_whale']))\n",
    "print(len(val_d['new_whale']),len(val_d['not_new_whale']))\n",
    "\n",
    "train_ds = DictImageDataGenerator(rotation_range=20,\n",
    "                                  width_shift_range=0.1,\n",
    "                                  height_shift_range=0.1,\n",
    "                                  zoom_range=0.1,\n",
    "                                  horizontal_flip=True,\n",
    "                                  preprocessing_function=preprocess_func)\n",
    "train_gen = train_ds.flow_from_dict(train_d, target_size=(\n",
    "    IMG_SIZE, IMG_SIZE), batch_size=BATCH_SIZE)\n",
    "val_ds = DictImageDataGenerator(preprocessing_function=preprocess_func)\n",
    "val_gen = val_ds.flow_from_dict(val_d, target_size=(\n",
    "    IMG_SIZE, IMG_SIZE), batch_size=BATCH_SIZE)\n",
    "val_steps = val_gen.samples//BATCH_SIZE\n",
    "print(val_steps)\n",
    "# test\n",
    "for x, y in train_gen:\n",
    "    print(x.shape, y.shape)\n",
    "    break\n",
    "print(train_gen.class_indices)\n",
    "\n",
    "mob_model = get_xception_model(IMG_SIZE, LABEL_CNT, dense_dim=None)\n",
    "# mob_model.summary()\n",
    "\n",
    "cb_list = get_callbacks('../data/checkpoints/detect_if_new_whale_bbox_xception.h5', mob_model)\n",
    "adam_opt = keras.optimizers.Adam(lr=0.001)\n",
    "mob_model.compile(optimizer=adam_opt,\n",
    "                  loss='categorical_crossentropy', metrics=['acc'])\n",
    "print('compile done')"
   ]
  },
  {
   "cell_type": "code",
   "execution_count": null,
   "metadata": {},
   "outputs": [
    {
     "name": "stdout",
     "output_type": "stream",
     "text": [
      "Epoch 1/100\n",
      "  92/2000 [>.............................] - ETA: 17:49 - loss: 2.0425 - acc: 0.5299"
     ]
    }
   ],
   "source": [
    "# no box log\n",
    "# Epoch 00024: val_loss improved from 0.48239 to 0.48106, saving model to ../data/checkpoints/detect_if_new_whale.h5\n",
    "# loss: 0.4322 - acc: 0.8033 - val_loss: 0.5065 - val_acc: 0.7742\n",
    "\n",
    "# Epoch 00002: val_loss improved from 0.50386 to 0.46272, saving model to ../data/checkpoints/detect_if_new_whale_bbox.h5\n",
    "# loss: 0.4479 - acc: 0.7944 - val_loss: 0.4627 - val_acc: 0.7979\n",
    "\n",
    "# train\n",
    "mob_model.fit_generator(\n",
    "    train_gen,\n",
    "    steps_per_epoch=2000,\n",
    "    epochs=100,\n",
    "    verbose=1,\n",
    "    callbacks=cb_list,\n",
    "    validation_data=val_gen,\n",
    "    validation_steps=val_steps\n",
    ")"
   ]
  }
 ],
 "metadata": {
  "kernelspec": {
   "display_name": "Python 3",
   "language": "python",
   "name": "python3"
  },
  "language_info": {
   "codemirror_mode": {
    "name": "ipython",
    "version": 3
   },
   "file_extension": ".py",
   "mimetype": "text/x-python",
   "name": "python",
   "nbconvert_exporter": "python",
   "pygments_lexer": "ipython3",
   "version": "3.5.2"
  }
 },
 "nbformat": 4,
 "nbformat_minor": 2
}
